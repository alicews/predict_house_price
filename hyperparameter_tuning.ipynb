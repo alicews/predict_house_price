{
 "cells": [
  {
   "cell_type": "code",
   "execution_count": 1,
   "metadata": {},
   "outputs": [
    {
     "name": "stderr",
     "output_type": "stream",
     "text": [
      "Using TensorFlow backend.\n"
     ]
    }
   ],
   "source": [
    "import re\n",
    "import numpy as np\n",
    "import pandas as pd\n",
    "import pickle\n",
    "\n",
    "import matplotlib.pyplot as plt\n",
    "\n",
    "%matplotlib inline\n",
    "\n",
    "from gensim.models import Word2Vec\n",
    "import tensorflow as tf\n",
    "from tensorflow import keras\n",
    "from tensorflow.keras import layers\n",
    "from keras.models import Sequential\n",
    "from keras.layers import Dense\n",
    "from keras.layers import Dropout\n",
    "from keras.wrappers.scikit_learn import KerasRegressor\n",
    "from sklearn.model_selection import cross_val_score, cross_val_predict\n",
    "from sklearn.model_selection import KFold\n",
    "from sklearn.model_selection import GridSearchCV\n",
    "from sklearn.preprocessing import StandardScaler, MinMaxScaler\n",
    "from sklearn.pipeline import Pipeline"
   ]
  },
  {
   "cell_type": "code",
   "execution_count": 2,
   "metadata": {},
   "outputs": [
    {
     "name": "stdout",
     "output_type": "stream",
     "text": [
      "(28626, 10)\n"
     ]
    }
   ],
   "source": [
    "df = pd.read_csv(\"data/all_sales.csv\", encoding='latin-1')\n",
    "print(df.shape)"
   ]
  },
  {
   "cell_type": "code",
   "execution_count": 3,
   "metadata": {},
   "outputs": [
    {
     "data": {
      "text/html": [
       "<div>\n",
       "<style scoped>\n",
       "    .dataframe tbody tr th:only-of-type {\n",
       "        vertical-align: middle;\n",
       "    }\n",
       "\n",
       "    .dataframe tbody tr th {\n",
       "        vertical-align: top;\n",
       "    }\n",
       "\n",
       "    .dataframe thead th {\n",
       "        text-align: right;\n",
       "    }\n",
       "</style>\n",
       "<table border=\"1\" class=\"dataframe\">\n",
       "  <thead>\n",
       "    <tr style=\"text-align: right;\">\n",
       "      <th></th>\n",
       "      <th>Unnamed: 0</th>\n",
       "      <th>Address</th>\n",
       "      <th>Apt</th>\n",
       "      <th>bedroom</th>\n",
       "      <th>bathroom</th>\n",
       "      <th>size</th>\n",
       "      <th>intro</th>\n",
       "      <th>photo</th>\n",
       "      <th>price</th>\n",
       "      <th>price(k)</th>\n",
       "    </tr>\n",
       "  </thead>\n",
       "  <tbody>\n",
       "    <tr>\n",
       "      <th>0</th>\n",
       "      <td>3</td>\n",
       "      <td>1 5th Avenue</td>\n",
       "      <td>9B</td>\n",
       "      <td>2.0</td>\n",
       "      <td>2.0</td>\n",
       "      <td>1150.0</td>\n",
       "      <td>Please call to schedule a private viewing Buil...</td>\n",
       "      <td>['https://d2787ndpv5cwhz.cloudfront.net/453a7f...</td>\n",
       "      <td>2850000</td>\n",
       "      <td>2850.0</td>\n",
       "    </tr>\n",
       "    <tr>\n",
       "      <th>1</th>\n",
       "      <td>6</td>\n",
       "      <td>1 Bay Club Dr</td>\n",
       "      <td>11D</td>\n",
       "      <td>2.0</td>\n",
       "      <td>2.0</td>\n",
       "      <td>1400.0</td>\n",
       "      <td>Renovated Large 2 Bedroom 2 Bathroom. Nice Wat...</td>\n",
       "      <td>['http://photos.v3.mlsstratus.com/Live/photos/...</td>\n",
       "      <td>938000</td>\n",
       "      <td>938.0</td>\n",
       "    </tr>\n",
       "    <tr>\n",
       "      <th>2</th>\n",
       "      <td>8</td>\n",
       "      <td>1 Bay Club Dr</td>\n",
       "      <td>16-A</td>\n",
       "      <td>2.0</td>\n",
       "      <td>2.0</td>\n",
       "      <td>1250.0</td>\n",
       "      <td>Stunning Hi Floor 2 Bedroom-2 Baths Filled Wit...</td>\n",
       "      <td>['http://photos.v3.mlsstratus.com/Live/photos/...</td>\n",
       "      <td>899000</td>\n",
       "      <td>899.0</td>\n",
       "    </tr>\n",
       "  </tbody>\n",
       "</table>\n",
       "</div>"
      ],
      "text/plain": [
       "   Unnamed: 0        Address   Apt  bedroom  bathroom    size  \\\n",
       "0           3   1 5th Avenue    9B      2.0       2.0  1150.0   \n",
       "1           6  1 Bay Club Dr   11D      2.0       2.0  1400.0   \n",
       "2           8  1 Bay Club Dr  16-A      2.0       2.0  1250.0   \n",
       "\n",
       "                                               intro  \\\n",
       "0  Please call to schedule a private viewing Buil...   \n",
       "1  Renovated Large 2 Bedroom 2 Bathroom. Nice Wat...   \n",
       "2  Stunning Hi Floor 2 Bedroom-2 Baths Filled Wit...   \n",
       "\n",
       "                                               photo    price  price(k)  \n",
       "0  ['https://d2787ndpv5cwhz.cloudfront.net/453a7f...  2850000    2850.0  \n",
       "1  ['http://photos.v3.mlsstratus.com/Live/photos/...  938000      938.0  \n",
       "2  ['http://photos.v3.mlsstratus.com/Live/photos/...  899000      899.0  "
      ]
     },
     "execution_count": 3,
     "metadata": {},
     "output_type": "execute_result"
    }
   ],
   "source": [
    "df.head(3)"
   ]
  },
  {
   "cell_type": "markdown",
   "metadata": {},
   "source": [
    "## train customer words embedding"
   ]
  },
  {
   "cell_type": "code",
   "execution_count": null,
   "metadata": {},
   "outputs": [],
   "source": [
    "corpus = df[\"intro\"].values\n",
    "# we need to pass splitted sentences to the model\n",
    "tokenized_sentences = [sentence.split() for sentence in corpus if type(sentence)==str and len(sentence)>3]"
   ]
  },
  {
   "cell_type": "code",
   "execution_count": null,
   "metadata": {},
   "outputs": [],
   "source": [
    "# train model\n",
    "model20 = Word2Vec(tokenized_sentences, \n",
    "                 min_count=3,   # Ignore words that appear less than this\n",
    "                 size=20,      # Dimensionality of word embeddings\n",
    "                 workers=2,     # Number of processors (parallelisation)\n",
    "                 window=5)      # Context window for words during training"
   ]
  },
  {
   "cell_type": "code",
   "execution_count": null,
   "metadata": {},
   "outputs": [],
   "source": [
    "model20.save('data/model20.bin')"
   ]
  },
  {
   "cell_type": "code",
   "execution_count": 4,
   "metadata": {},
   "outputs": [
    {
     "name": "stderr",
     "output_type": "stream",
     "text": [
      "C:\\ProgramData\\Anaconda3\\lib\\site-packages\\smart_open\\smart_open_lib.py:398: UserWarning: This function is deprecated, use smart_open.open instead. See the migration notes for details: https://github.com/RaRe-Technologies/smart_open/blob/master/README.rst#migrating-to-the-new-open-function\n",
      "  'See the migration notes for details: %s' % _MIGRATION_NOTES_URL\n"
     ]
    }
   ],
   "source": [
    "model = Word2Vec.load('data/model20.bin')"
   ]
  },
  {
   "cell_type": "code",
   "execution_count": 5,
   "metadata": {},
   "outputs": [],
   "source": [
    "def parse(df, embedding, number):\n",
    "    word_vector = np.zeros((number,))\n",
    "    for intro in df[\"intro\"].values:\n",
    "        if type(intro)==str:\n",
    "            token = intro.split()\n",
    "            s = np.zeros((number,))\n",
    "            for i in token:\n",
    "                i = i.lower()\n",
    "                try:\n",
    "                    s = s + embedding[i]\n",
    "                except:\n",
    "                    s = s\n",
    "            word_vector = np.vstack([word_vector, s])\n",
    "        else:\n",
    "            word_vector = np.vstack([word_vector, np.zeros((number,))])\n",
    "    word_vector = word_vector[1:]\n",
    "    sdf = pd.DataFrame(word_vector)\n",
    "    df1 = pd.concat([df, sdf], axis=1)\n",
    "    df1 = df1[~df1[\"price(k)\"].isna()]\n",
    "    return df1"
   ]
  },
  {
   "cell_type": "code",
   "execution_count": 6,
   "metadata": {},
   "outputs": [
    {
     "name": "stderr",
     "output_type": "stream",
     "text": [
      "C:\\ProgramData\\Anaconda3\\lib\\site-packages\\ipykernel_launcher.py:10: DeprecationWarning: Call to deprecated `__getitem__` (Method will be removed in 4.0.0, use self.wv.__getitem__() instead).\n",
      "  # Remove the CWD from sys.path while we load stuff.\n"
     ]
    }
   ],
   "source": [
    "df_self_train = parse(df, model, 20)"
   ]
  },
  {
   "cell_type": "markdown",
   "metadata": {},
   "source": [
    "## train and test"
   ]
  },
  {
   "cell_type": "code",
   "execution_count": 7,
   "metadata": {},
   "outputs": [],
   "source": [
    "def inputdata(df_name, n):\n",
    "    df_name = df_name[~df_name[\"price(k)\"].isna()]\n",
    "    df = df_name.sample(frac=1)\n",
    "    vars_housing   = ['bedroom', 'bathroom', 'size'] + list(range(n))\n",
    "    target_housing = [\"price(k)\"]\n",
    "    X = df[vars_housing ] \n",
    "    y = df[target_housing ]\n",
    "    scaler_x = MinMaxScaler()\n",
    "    scaler_y = MinMaxScaler()\n",
    "    xscale=scaler_x.fit_transform(X)\n",
    "    yscale=scaler_y.fit_transform(y)\n",
    "    return xscale, yscale"
   ]
  },
  {
   "cell_type": "code",
   "execution_count": 10,
   "metadata": {},
   "outputs": [],
   "source": [
    "class PrintDot(keras.callbacks.Callback):\n",
    "    def on_epoch_end(self, epoch, logs):\n",
    "        if epoch % 100 == 0: \n",
    "            print('')\n",
    "        print('.', end='')\n",
    "def build_model(optimizer=\"adam\"):\n",
    "    model = Sequential()\n",
    "    model.add(Dense(32, kernel_initializer='normal', activation=tf.nn.relu, input_shape=[23]))\n",
    "    model.add(Dropout(rate=0.3))\n",
    "    model.add(Dense(1, kernel_initializer='normal'))\n",
    "#     optimizer = tf.keras.optimizers.RMSprop(0.1)\n",
    "\n",
    "    model.compile(loss='mean_squared_error',\n",
    "                optimizer=optimizer,\n",
    "                metrics=['mean_absolute_error', 'mean_squared_error'])\n",
    "    return model"
   ]
  },
  {
   "cell_type": "code",
   "execution_count": 11,
   "metadata": {},
   "outputs": [
    {
     "name": "stdout",
     "output_type": "stream",
     "text": [
      "WARNING:tensorflow:From C:\\ProgramData\\Anaconda3\\lib\\site-packages\\tensorflow\\python\\framework\\op_def_library.py:263: colocate_with (from tensorflow.python.framework.ops) is deprecated and will be removed in a future version.\n",
      "Instructions for updating:\n",
      "Colocations handled automatically by placer.\n",
      "WARNING:tensorflow:From C:\\ProgramData\\Anaconda3\\lib\\site-packages\\keras\\backend\\tensorflow_backend.py:3135: calling dropout (from tensorflow.python.ops.nn_ops) with keep_prob is deprecated and will be removed in a future version.\n",
      "Instructions for updating:\n",
      "Please use `rate` instead of `keep_prob`. Rate should be set to `rate = 1 - keep_prob`.\n",
      "_________________________________________________________________\n",
      "Layer (type)                 Output Shape              Param #   \n",
      "=================================================================\n",
      "dense_1 (Dense)              (None, 32)                768       \n",
      "_________________________________________________________________\n",
      "dropout_1 (Dropout)          (None, 32)                0         \n",
      "_________________________________________________________________\n",
      "dense_2 (Dense)              (None, 1)                 33        \n",
      "=================================================================\n",
      "Total params: 801\n",
      "Trainable params: 801\n",
      "Non-trainable params: 0\n",
      "_________________________________________________________________\n"
     ]
    }
   ],
   "source": [
    "x, y = inputdata(df_self_train, 20)\n",
    "model = build_model()\n",
    "model.summary()"
   ]
  },
  {
   "cell_type": "markdown",
   "metadata": {},
   "source": [
    "# grid search"
   ]
  },
  {
   "cell_type": "markdown",
   "metadata": {},
   "source": [
    "## Tune the Training Optimization Algorithm"
   ]
  },
  {
   "cell_type": "code",
   "execution_count": 16,
   "metadata": {},
   "outputs": [
    {
     "name": "stdout",
     "output_type": "stream",
     "text": [
      "Fitting 3 folds for each of 7 candidates, totalling 21 fits\n"
     ]
    },
    {
     "name": "stderr",
     "output_type": "stream",
     "text": [
      "[Parallel(n_jobs=-1)]: Using backend LokyBackend with 4 concurrent workers.\n",
      "[Parallel(n_jobs=-1)]: Done  21 out of  21 | elapsed: 39.2min finished\n"
     ]
    }
   ],
   "source": [
    "# define the grid search parameters\n",
    "estimator = KerasRegressor(build_fn=build_model, epochs=100, batch_size=10, verbose=0)\n",
    "# define the grid search parameters\n",
    "optimizers = ['SGD', 'RMSprop', 'Adagrad', 'Adadelta', 'Adam', 'Adamax', 'Nadam']\n",
    "param_grid = dict(optimizer=optimizers)\n",
    "grid = GridSearchCV(estimator=estimator, param_grid=param_grid, scoring=\"neg_mean_squared_error\", \n",
    "                    n_jobs=-1, refit=False, verbose=1)\n",
    "grid_result_opt = grid.fit(x, y)"
   ]
  },
  {
   "cell_type": "code",
   "execution_count": 18,
   "metadata": {},
   "outputs": [
    {
     "name": "stdout",
     "output_type": "stream",
     "text": [
      "Best: -0.001323 using {'optimizer': 'Adadelta'}\n",
      "-0.001495 (0.000100) with: {'optimizer': 'SGD'}\n",
      "-0.002675 (0.001927) with: {'optimizer': 'RMSprop'}\n",
      "-0.001599 (0.000452) with: {'optimizer': 'Adagrad'}\n",
      "-0.001323 (0.000098) with: {'optimizer': 'Adadelta'}\n",
      "-0.003815 (0.003591) with: {'optimizer': 'Adam'}\n",
      "-0.002565 (0.001910) with: {'optimizer': 'Adamax'}\n",
      "-0.004652 (0.004655) with: {'optimizer': 'Nadam'}\n"
     ]
    }
   ],
   "source": [
    "\n",
    "# summarize results\n",
    "print(\"Best: %f using %s\" % (grid_result_opt.best_score_, grid_result_opt.best_params_))\n",
    "means = grid_result_opt.cv_results_['mean_test_score']\n",
    "stds = grid_result_opt.cv_results_['std_test_score']\n",
    "params = grid_result_opt.cv_results_['params']\n",
    "for mean, stdev, param in zip(means, stds, params):\n",
    "    print(\"%f (%f) with: %r\" % (mean, stdev, param))"
   ]
  },
  {
   "cell_type": "markdown",
   "metadata": {},
   "source": [
    "## Tune the Number of Neurons in the Hidden Layer"
   ]
  },
  {
   "cell_type": "code",
   "execution_count": 12,
   "metadata": {},
   "outputs": [],
   "source": [
    "def build_model(neurons=2):\n",
    "    model = Sequential()\n",
    "    model.add(Dense(neurons, kernel_initializer='normal', activation=\"relu\", input_shape=[23]))\n",
    "    model.add(Dropout(rate=0.3))\n",
    "    model.add(Dense(1, kernel_initializer='normal'))\n",
    "#     optimizer = tf.keras.optimizers.RMSprop(0.1)\n",
    "\n",
    "    model.compile(loss='mean_squared_error',\n",
    "                optimizer=\"Adadelta\",\n",
    "                metrics=['mean_absolute_error', 'mean_squared_error'])\n",
    "    return model"
   ]
  },
  {
   "cell_type": "code",
   "execution_count": 13,
   "metadata": {},
   "outputs": [
    {
     "name": "stderr",
     "output_type": "stream",
     "text": [
      "C:\\ProgramData\\Anaconda3\\lib\\site-packages\\sklearn\\model_selection\\_split.py:2053: FutureWarning: You should specify a value for 'cv' instead of relying on the default value. The default value will change from 3 to 5 in version 0.22.\n",
      "  warnings.warn(CV_WARNING, FutureWarning)\n",
      "[Parallel(n_jobs=-1)]: Using backend LokyBackend with 4 concurrent workers.\n"
     ]
    },
    {
     "name": "stdout",
     "output_type": "stream",
     "text": [
      "Fitting 3 folds for each of 7 candidates, totalling 21 fits\n"
     ]
    },
    {
     "name": "stderr",
     "output_type": "stream",
     "text": [
      "[Parallel(n_jobs=-1)]: Done  21 out of  21 | elapsed: 41.6min finished\n"
     ]
    }
   ],
   "source": [
    "# define the grid search parameters\n",
    "estimator = KerasRegressor(build_fn=build_model, epochs=100, batch_size=10, verbose=0)\n",
    "# define the grid search parameters\n",
    "neurons = [2, 6, 11, 16, 21, 26, 32]\n",
    "param_grid = dict(neurons=neurons)\n",
    "grid = GridSearchCV(estimator=estimator, param_grid=param_grid, scoring=\"neg_mean_squared_error\", \n",
    "                    n_jobs=-1, refit=False, verbose=1)\n",
    "grid_result_neuron = grid.fit(x, y)"
   ]
  },
  {
   "cell_type": "code",
   "execution_count": 16,
   "metadata": {},
   "outputs": [
    {
     "name": "stdout",
     "output_type": "stream",
     "text": [
      "Best: -0.001345 using {'neurons': 21}\n",
      "-0.001904 (0.000504) with: {'neurons': 2}\n",
      "-0.001524 (0.000086) with: {'neurons': 6}\n",
      "-0.001420 (0.000084) with: {'neurons': 11}\n",
      "-0.001443 (0.000110) with: {'neurons': 16}\n",
      "-0.001345 (0.000098) with: {'neurons': 21}\n",
      "-0.001366 (0.000129) with: {'neurons': 26}\n",
      "-0.001356 (0.000135) with: {'neurons': 32}\n"
     ]
    }
   ],
   "source": [
    "\n",
    "# summarize results\n",
    "print(\"Best: %f using %s\" % (grid_result_neuron.best_score_, grid_result_neuron.best_params_))\n",
    "means = grid_result_neuron.cv_results_['mean_test_score']\n",
    "stds = grid_result_neuron.cv_results_['std_test_score']\n",
    "params = grid_result_neuron.cv_results_['params']\n",
    "for mean, stdev, param in zip(means, stds, params):\n",
    "    print(\"%f (%f) with: %r\" % (mean, stdev, param))"
   ]
  },
  {
   "cell_type": "markdown",
   "metadata": {},
   "source": [
    "### Tune Batch Size and Number of Epochs"
   ]
  },
  {
   "cell_type": "code",
   "execution_count": 36,
   "metadata": {},
   "outputs": [
    {
     "name": "stdout",
     "output_type": "stream",
     "text": [
      "Fitting 3 folds for each of 4 candidates, totalling 12 fits\n"
     ]
    },
    {
     "name": "stderr",
     "output_type": "stream",
     "text": [
      "[Parallel(n_jobs=-1)]: Using backend LokyBackend with 4 concurrent workers.\n",
      "[Parallel(n_jobs=-1)]: Done  12 out of  12 | elapsed: 46.8min finished\n"
     ]
    }
   ],
   "source": [
    "# define the grid search parameters\n",
    "estimator = KerasRegressor(build_fn=build_model, verbose=False)\n",
    "batch_size = [10, 20, 50, 100]\n",
    "epochs = [200]\n",
    "param_grid = dict(batch_size=batch_size, epochs=epochs)\n",
    "grid = GridSearchCV(estimator=estimator, param_grid=param_grid, scoring=\"neg_mean_squared_error\", \n",
    "                    n_jobs=-1, refit=False, verbose=1)\n",
    "grid_result_epoch = grid.fit(x, y)"
   ]
  },
  {
   "cell_type": "code",
   "execution_count": 37,
   "metadata": {},
   "outputs": [
    {
     "name": "stdout",
     "output_type": "stream",
     "text": [
      "Best: -0.001288 using {'batch_size': 50, 'epochs': 200}\n",
      "-0.001373 (0.000049) with: {'batch_size': 10, 'epochs': 200}\n",
      "-0.001321 (0.000045) with: {'batch_size': 20, 'epochs': 200}\n",
      "-0.001288 (0.000004) with: {'batch_size': 50, 'epochs': 200}\n",
      "-0.001380 (0.000099) with: {'batch_size': 100, 'epochs': 200}\n"
     ]
    }
   ],
   "source": [
    "\n",
    "# summarize results\n",
    "print(\"Best: %f using %s\" % (grid_result_epoch.best_score_, grid_result_epoch.best_params_))\n",
    "means = grid_result_epoch.cv_results_['mean_test_score']\n",
    "stds = grid_result_epoch.cv_results_['std_test_score']\n",
    "params = grid_result_epoch.cv_results_['params']\n",
    "for mean, stdev, param in zip(means, stds, params):\n",
    "    print(\"%f (%f) with: %r\" % (mean, stdev, param))"
   ]
  },
  {
   "cell_type": "markdown",
   "metadata": {},
   "source": [
    "## best model"
   ]
  },
  {
   "cell_type": "code",
   "execution_count": 133,
   "metadata": {},
   "outputs": [],
   "source": [
    "def build_model():\n",
    "    model = Sequential()\n",
    "    model.add(Dense(21, kernel_initializer='normal', activation=\"relu\", input_shape=[23]))\n",
    "    model.add(Dropout(0.3))\n",
    "    model.add(Dense(1, kernel_initializer='normal'))\n",
    "#     optimizer = tf.keras.optimizers.RMSprop(0.1)\n",
    "\n",
    "    model.compile(loss='mean_squared_error',\n",
    "                optimizer=\"Adadelta\",\n",
    "                metrics=['mean_absolute_error', 'mean_squared_error'])\n",
    "    return model"
   ]
  },
  {
   "cell_type": "code",
   "execution_count": 134,
   "metadata": {},
   "outputs": [
    {
     "name": "stdout",
     "output_type": "stream",
     "text": [
      "_________________________________________________________________\n",
      "Layer (type)                 Output Shape              Param #   \n",
      "=================================================================\n",
      "dense_55 (Dense)             (None, 21)                504       \n",
      "_________________________________________________________________\n",
      "dropout_24 (Dropout)         (None, 21)                0         \n",
      "_________________________________________________________________\n",
      "dense_56 (Dense)             (None, 1)                 22        \n",
      "=================================================================\n",
      "Total params: 526\n",
      "Trainable params: 526\n",
      "Non-trainable params: 0\n",
      "_________________________________________________________________\n"
     ]
    }
   ],
   "source": [
    "x, y = inputdata(df_self_train, 20)\n",
    "model = build_model()\n",
    "model.summary()"
   ]
  },
  {
   "cell_type": "code",
   "execution_count": 135,
   "metadata": {},
   "outputs": [],
   "source": [
    "history = model.fit(x, y, epochs=200, batch_size=50, verbose=0, validation_split=0.2)"
   ]
  },
  {
   "cell_type": "code",
   "execution_count": 136,
   "metadata": {},
   "outputs": [
    {
     "data": {
      "text/plain": [
       "<matplotlib.legend.Legend at 0x230cc993128>"
      ]
     },
     "execution_count": 136,
     "metadata": {},
     "output_type": "execute_result"
    },
    {
     "data": {
      "image/png": "[encoded data removed]",
      "text/plain": [
       "<Figure size 864x432 with 1 Axes>"
      ]
     },
     "metadata": {
      "needs_background": "light"
     },
     "output_type": "display_data"
    }
   ],
   "source": [
    "plt.figure(figsize=(12,6))\n",
    "plt.subplot(1, 2, 1)\n",
    "plt.plot(history.history[\"loss\"],label=\"loss\")\n",
    "plt.plot(history.history[\"val_loss\"],label=\"valuation loss\")\n",
    "plt.title('Loss')\n",
    "plt.xlabel('epoch')\n",
    "plt.legend()"
   ]
  },
  {
   "cell_type": "code",
   "execution_count": 137,
   "metadata": {},
   "outputs": [
    {
     "data": {
      "image/png": "[encoded data removed]",
      "text/plain": [
       "<Figure size 576x432 with 1 Axes>"
      ]
     },
     "metadata": {
      "needs_background": "light"
     },
     "output_type": "display_data"
    }
   ],
   "source": [
    "y_p = model.predict(x)\n",
    "\n",
    "plt.figure( figsize=(8,6))\n",
    "\n",
    "plt.title('Real vs CV Predicted Values')\n",
    "plt.xlabel('Price')\n",
    "plt.ylabel('Price_CV_predicted')\n",
    "_ = plt.plot(y, y_p, '.', y, y, '-')"
   ]
  }
 ],
 "metadata": {
  "kernelspec": {
   "display_name": "Python 3",
   "language": "python",
   "name": "python3"
  },
  "language_info": {
   "codemirror_mode": {
    "name": "ipython",
    "version": 3
   },
   "file_extension": ".py",
   "mimetype": "text/x-python",
   "name": "python",
   "nbconvert_exporter": "python",
   "pygments_lexer": "ipython3",
   "version": "3.7.3"
  }
 },
 "nbformat": 4,
 "nbformat_minor": 2
}
